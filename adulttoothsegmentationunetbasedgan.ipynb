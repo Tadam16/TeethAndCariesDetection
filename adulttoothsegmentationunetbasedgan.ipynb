{
 "metadata": {
  "kernelspec": {
   "name": "python3",
   "display_name": "Python 3",
   "language": "python"
  },
  "language_info": {
   "name": "python",
   "version": "3.10.12",
   "mimetype": "text/x-python",
   "codemirror_mode": {
    "name": "ipython",
    "version": 3
   },
   "pygments_lexer": "ipython3",
   "nbconvert_exporter": "python",
   "file_extension": ".py"
  },
  "colab": {
   "provenance": [],
   "gpuType": "T4"
  },
  "accelerator": "GPU"
 },
 "nbformat_minor": 4,
 "nbformat": 4,
 "cells": [
  {
   "cell_type": "code",
   "source": [
    "!pip install natsort"
   ],
   "metadata": {
    "colab": {
     "base_uri": "https://localhost:8080/"
    },
    "id": "joHOz5ixXbae",
    "outputId": "49ede2c5-6b58-4afe-e137-f3890475b40b",
    "execution": {
     "iopub.status.busy": "2023-08-12T09:16:02.207356Z",
     "iopub.execute_input": "2023-08-12T09:16:02.208030Z",
     "iopub.status.idle": "2023-08-12T09:16:15.700457Z",
     "shell.execute_reply.started": "2023-08-12T09:16:02.207994Z",
     "shell.execute_reply": "2023-08-12T09:16:15.699442Z"
    },
    "trusted": true
   },
   "execution_count": null,
   "outputs": []
  },
  {
   "cell_type": "markdown",
   "source": [
    "- Dental segmentation for adults. Many dentists suffer from the difficulty of analyzing panoramic images of teeth for adults. One of the difficulties that dentists suffer from is the difficulty in determining the extension and root of the teeth, which affects the decisions of doctors in many cases that include dental implants, tooth extraction, or other problems. Cases experienced by dentists are difficult.\n",
    "- In this study, it is proposed to use generative neuronal models in order to study more deeply the fragmentation process of teeth.\n",
    "- The use of generative networks helps to understand more deeply the shape in which the teeth can be formed, which helps in generalizing on the ability to segment the process, and this leads to models that are more understanding of the morphological structure of the teeth.\n",
    "- A generative neural network was proposed with the aim of segmenting the dental region of adults, and after completing the process of training the generative network, the generator was retrained only according to the concept of **pixel2pixel** and freezing the weights of a number of layers, in order to make the generator network depend on the training it received from the generative neural network.\n",
    "- The generative neural network achieved high results in the process of segmentation and tooth recognition, and those results were improved by retraining the generator with freezing a number of layers in order to make the generator able to generalize the results that were reached.\n",
    "- I was able to reach a stable training process free from overfitting and other problems that could face the training process.\n",
    "- The number of samples included in the dataset is small, so generative neural networks were used to build a segmentation model that is more generalizable. Within the same panoramic medical images."
   ],
   "metadata": {}
  },
  {
   "cell_type": "markdown",
   "source": [
    "# IMPORT PACKAGES"
   ],
   "metadata": {}
  },
  {
   "cell_type": "code",
   "source": [
    "import tensorflow as tf\n",
    "import numpy as np\n",
    "import os\n",
    "from PIL import Image\n",
    "import matplotlib.pyplot as plt\n",
    "import cv2\n",
    "from keras import layers, models\n",
    "import pathlib\n",
    "import natsort\n",
    "from sklearn.model_selection import train_test_split\n",
    "from sklearn.metrics import accuracy_score, precision_score, recall_score, classification_report\n",
    "from sklearn.metrics import confusion_matrix\n",
    "from sklearn.preprocessing import MinMaxScaler"
   ],
   "metadata": {
    "id": "GHwanagFXbag",
    "execution": {
     "iopub.status.busy": "2023-08-12T09:16:56.853317Z",
     "iopub.execute_input": "2023-08-12T09:16:56.854734Z",
     "iopub.status.idle": "2023-08-12T09:16:56.861799Z",
     "shell.execute_reply.started": "2023-08-12T09:16:56.854687Z",
     "shell.execute_reply": "2023-08-12T09:16:56.860458Z"
    },
    "trusted": true
   },
   "execution_count": null,
   "outputs": []
  },
  {
   "cell_type": "code",
   "source": [
    "epochs = 10000\n",
    "batch = 16\n",
    "eta = 0.001\n",
    "weight_decay = 6e-8\n",
    "imageShape = (224, 224, 1)\n",
    "maskShape = (224, 224, 1)"
   ],
   "metadata": {
    "id": "QhWTi6rZxeXW",
    "execution": {
     "iopub.status.busy": "2023-08-12T09:17:02.880873Z",
     "iopub.execute_input": "2023-08-12T09:17:02.881232Z",
     "iopub.status.idle": "2023-08-12T09:17:02.886421Z",
     "shell.execute_reply.started": "2023-08-12T09:17:02.881202Z",
     "shell.execute_reply": "2023-08-12T09:17:02.885321Z"
    },
    "trusted": true
   },
   "execution_count": null,
   "outputs": []
  },
  {
   "cell_type": "markdown",
   "source": [
    "# READ DATASET (IMAGES, MASKS)"
   ],
   "metadata": {}
  },
  {
   "cell_type": "code",
   "source": [
    "class readDataset:\n",
    "    def __init__(self, imagesPathes, masksPathes):\n",
    "        self.imagesPathes = imagesPathes\n",
    "        self.masksPathes = masksPathes\n",
    "    def readPathes(self,):\n",
    "      self.images = natsort.natsorted(list(pathlib.Path(self.imagesPathes).glob('*.*')))\n",
    "      self.masks = natsort.natsorted(list(pathlib.Path(self.masksPathes).glob('*.*')))\n",
    "    def readImages(self, data, typeData):\n",
    "        images = []\n",
    "        for img in data:\n",
    "            img = cv2.imread(str(img), 0)\n",
    "            img = img/255\n",
    "            img = cv2.resize(img, (224, 224))\n",
    "            if typeData == 'm':\n",
    "                img = np.where(img > 0, 1, 0)\n",
    "            images.append(img)\n",
    "        return np.array(images)\n",
    "    def dataAugmentation(self, images, masks):\n",
    "        imagesupdate = []\n",
    "        masksupdate = []\n",
    "        for image, mask in zip(images, masks):\n",
    "          for aug in range(2):\n",
    "            imageup = image\n",
    "            maskup = mask\n",
    "            if aug == 0:\n",
    "              imageup = image\n",
    "              maskup = mask\n",
    "            else:\n",
    "              imageup = tf.image.flip_left_right(imageup)\n",
    "              maskup = tf.image.flip_left_right(maskup)\n",
    "            imagesupdate.append(imageup), masksupdate.append(maskup)\n",
    "        return np.array(imagesupdate), np.array(masksupdate)"
   ],
   "metadata": {
    "id": "o9rbB3bdxeXX",
    "execution": {
     "iopub.status.busy": "2023-08-12T10:26:08.281807Z",
     "iopub.execute_input": "2023-08-12T10:26:08.282226Z",
     "iopub.status.idle": "2023-08-12T10:26:08.294850Z",
     "shell.execute_reply.started": "2023-08-12T10:26:08.282192Z",
     "shell.execute_reply": "2023-08-12T10:26:08.293168Z"
    },
    "trusted": true
   },
   "execution_count": null,
   "outputs": []
  },
  {
   "cell_type": "code",
   "source": [
    "datasetObject = readDataset('/kaggle/input/childrens-dental-panoramic-radiographs-dataset/Dental_dataset/Adult tooth segmentation dataset/Panoramic radiography database/images',\n",
    "                            '/kaggle/input/childrens-dental-panoramic-radiographs-dataset/Dental_dataset/Adult tooth segmentation dataset/Panoramic radiography database/mask')\n",
    "datasetObject.readPathes()"
   ],
   "metadata": {
    "id": "l3UQmNwvnnIm",
    "execution": {
     "iopub.status.busy": "2023-08-12T10:26:10.704545Z",
     "iopub.execute_input": "2023-08-12T10:26:10.704929Z",
     "iopub.status.idle": "2023-08-12T10:26:10.788960Z",
     "shell.execute_reply.started": "2023-08-12T10:26:10.704899Z",
     "shell.execute_reply": "2023-08-12T10:26:10.788015Z"
    },
    "trusted": true
   },
   "execution_count": null,
   "outputs": []
  },
  {
   "cell_type": "code",
   "source": [
    "len(datasetObject.images), len(datasetObject.masks)"
   ],
   "metadata": {
    "colab": {
     "base_uri": "https://localhost:8080/"
    },
    "id": "YQS24ueH_cyq",
    "outputId": "021f9a89-79bf-4291-b4d3-6a8450c01166",
    "execution": {
     "iopub.status.busy": "2023-08-12T10:26:12.807790Z",
     "iopub.execute_input": "2023-08-12T10:26:12.808146Z",
     "iopub.status.idle": "2023-08-12T10:26:12.814769Z",
     "shell.execute_reply.started": "2023-08-12T10:26:12.808118Z",
     "shell.execute_reply": "2023-08-12T10:26:12.813824Z"
    },
    "trusted": true
   },
   "execution_count": null,
   "outputs": []
  },
  {
   "cell_type": "code",
   "source": [
    "images = datasetObject.readImages(datasetObject.images, 'i')\n",
    "masks = datasetObject.readImages(datasetObject.masks, 'm')\n",
    "images.shape, masks.shape"
   ],
   "metadata": {
    "colab": {
     "base_uri": "https://localhost:8080/"
    },
    "id": "lKylNUS1xeXY",
    "outputId": "ce0c3c5d-c394-4564-91af-cc0516d44364",
    "execution": {
     "iopub.status.busy": "2023-08-12T10:26:15.176229Z",
     "iopub.execute_input": "2023-08-12T10:26:15.176602Z",
     "iopub.status.idle": "2023-08-12T10:26:52.237420Z",
     "shell.execute_reply.started": "2023-08-12T10:26:15.176572Z",
     "shell.execute_reply": "2023-08-12T10:26:52.236437Z"
    },
    "trusted": true
   },
   "execution_count": null,
   "outputs": []
  },
  {
   "cell_type": "code",
   "source": [
    "plt.figure(figsize = (12, 12))\n",
    "for i in range(36):\n",
    "    plt.subplot(6, 6, (i + 1))\n",
    "    plt.imshow(images[i], cmap = 'gray')\n",
    "    plt.imshow(masks[i], alpha = 0.6, cmap = 'gray')\n",
    "plt.legend()"
   ],
   "metadata": {
    "id": "3LFivzgpnnIo",
    "colab": {
     "base_uri": "https://localhost:8080/",
     "height": 1000
    },
    "outputId": "c67b535d-2ad0-4bed-d665-3c4d34c10f7c",
    "execution": {
     "iopub.status.busy": "2023-08-12T06:26:44.131931Z",
     "iopub.execute_input": "2023-08-12T06:26:44.133017Z",
     "iopub.status.idle": "2023-08-12T06:26:49.250883Z",
     "shell.execute_reply.started": "2023-08-12T06:26:44.132964Z",
     "shell.execute_reply": "2023-08-12T06:26:49.249752Z"
    },
    "trusted": true
   },
   "execution_count": null,
   "outputs": []
  },
  {
   "cell_type": "code",
   "source": [
    "np.unique(masks), np.min(masks), np.max(masks), np.min(images), np.max(masks)"
   ],
   "metadata": {
    "colab": {
     "base_uri": "https://localhost:8080/"
    },
    "id": "0jtV4nBCpzrC",
    "outputId": "d0b2f585-a2ab-42bb-a82e-3abc8fdd4e90",
    "execution": {
     "iopub.status.busy": "2023-08-12T09:18:04.514101Z",
     "iopub.execute_input": "2023-08-12T09:18:04.514498Z",
     "iopub.status.idle": "2023-08-12T09:18:05.268776Z",
     "shell.execute_reply.started": "2023-08-12T09:18:04.514464Z",
     "shell.execute_reply": "2023-08-12T09:18:05.267592Z"
    },
    "trusted": true
   },
   "execution_count": null,
   "outputs": []
  },
  {
   "cell_type": "markdown",
   "source": [
    "# An example explaining the proposed methodology"
   ],
   "metadata": {}
  },
  {
   "cell_type": "markdown",
   "source": [
    "An example to understand the study of the shape of the tooth:\n",
    "Since I want to move away from the concept of studying pixel2pixel, and I want to study the morphological structure of the teeth and force the neural network to understand more deeply, the structure of the discriminant within the generative neural network includes, in the first layer, the process of applying the mask to the medical image and extracting the dental region only, and thus the discriminant will be studied in This case is the structure and shape of the teeth and their presence close to each other, regardless of the rest of the parts, medical images."
   ],
   "metadata": {}
  },
  {
   "cell_type": "code",
   "source": [
    "x = layers.Input(shape = (224, 224, 1))\n",
    "y = layers.Input(shape = (224, 224, 1))\n",
    "z = layers.multiply([x, y])\n",
    "m = models.Model(inputs = [x, y], outputs = z)\n",
    "m.summary()"
   ],
   "metadata": {
    "execution": {
     "iopub.status.busy": "2023-08-12T10:07:47.077122Z",
     "iopub.execute_input": "2023-08-12T10:07:47.077615Z",
     "iopub.status.idle": "2023-08-12T10:07:47.125550Z",
     "shell.execute_reply.started": "2023-08-12T10:07:47.077575Z",
     "shell.execute_reply": "2023-08-12T10:07:47.124824Z"
    },
    "trusted": true
   },
   "execution_count": null,
   "outputs": []
  },
  {
   "cell_type": "code",
   "source": [
    "imagesByMasks = m([images[:64], masks[:64]])\n",
    "imagesByMasks.shape"
   ],
   "metadata": {
    "execution": {
     "iopub.status.busy": "2023-08-12T10:09:32.019812Z",
     "iopub.execute_input": "2023-08-12T10:09:32.020171Z",
     "iopub.status.idle": "2023-08-12T10:09:32.055881Z",
     "shell.execute_reply.started": "2023-08-12T10:09:32.020142Z",
     "shell.execute_reply": "2023-08-12T10:09:32.054599Z"
    },
    "trusted": true
   },
   "execution_count": null,
   "outputs": []
  },
  {
   "cell_type": "code",
   "source": [
    "plt.figure(figsize = (12, 12))\n",
    "for i in range(64):\n",
    "    plt.subplot(8, 8, (i + 1))\n",
    "    plt.imshow(imagesByMasks[i], cmap = 'gray')\n",
    "plt.legend()"
   ],
   "metadata": {
    "execution": {
     "iopub.status.busy": "2023-08-12T10:09:36.666889Z",
     "iopub.execute_input": "2023-08-12T10:09:36.667364Z",
     "iopub.status.idle": "2023-08-12T10:09:45.984996Z",
     "shell.execute_reply.started": "2023-08-12T10:09:36.667327Z",
     "shell.execute_reply": "2023-08-12T10:09:45.984132Z"
    },
    "trusted": true
   },
   "execution_count": null,
   "outputs": []
  },
  {
   "cell_type": "code",
   "source": [
    "i = 80\n",
    "validImages = images[:i]\n",
    "validMasks = masks[:i]\n",
    "trainImages = images[i:]\n",
    "trainMasks = masks[i:]\n",
    "validImages.shape, validMasks.shape, trainImages.shape, trainMasks.shape"
   ],
   "metadata": {
    "colab": {
     "base_uri": "https://localhost:8080/"
    },
    "id": "l8vNhxaVZ23R",
    "outputId": "1685b7ac-18c1-40bf-93b1-7cd6c8aa47e6",
    "execution": {
     "iopub.status.busy": "2023-08-12T09:18:11.241266Z",
     "iopub.execute_input": "2023-08-12T09:18:11.241986Z",
     "iopub.status.idle": "2023-08-12T09:18:11.249603Z",
     "shell.execute_reply.started": "2023-08-12T09:18:11.241950Z",
     "shell.execute_reply": "2023-08-12T09:18:11.248694Z"
    },
    "trusted": true
   },
   "execution_count": null,
   "outputs": []
  },
  {
   "cell_type": "markdown",
   "source": [
    "# Proposing a generative neural network architecture"
   ],
   "metadata": {}
  },
  {
   "cell_type": "code",
   "source": [
    "def convolution(inputs, filter, padding, strides, kernel, activation, conv_type):\n",
    "  x = inputs\n",
    "  x = layers.Conv2D(filter, kernel_size = kernel, padding = padding,\n",
    "                    strides = strides)(x)\n",
    "  x = layers.GroupNormalization(groups = filter)(x)\n",
    "  if conv_type == 'decoder':\n",
    "      x = layers.Activation(activation)(x)\n",
    "      x = layers.Conv2D(filter*2, kernel_size = kernel, padding = padding, strides = strides)(x)\n",
    "      x = layers.GroupNormalization(groups = filter*2)(x)\n",
    "      x = layers.Activation(activation)(x)\n",
    "      x = layers.Conv2D(filter, kernel_size = kernel, padding = padding, strides = strides)(x)\n",
    "      x = layers.GroupNormalization(groups = filter)(x)\n",
    "  x = layers.average([x, layers.Conv2D(filter, kernel_size = 1, padding = 'same',\n",
    "                                      strides = 1)(inputs)])\n",
    "  x = layers.Activation(activation)(x)\n",
    "  return x"
   ],
   "metadata": {
    "id": "lcAH125ap8MD",
    "execution": {
     "iopub.status.busy": "2023-08-12T09:18:15.188848Z",
     "iopub.execute_input": "2023-08-12T09:18:15.189215Z",
     "iopub.status.idle": "2023-08-12T09:18:15.200038Z",
     "shell.execute_reply.started": "2023-08-12T09:18:15.189183Z",
     "shell.execute_reply": "2023-08-12T09:18:15.199071Z"
    },
    "trusted": true
   },
   "execution_count": null,
   "outputs": []
  },
  {
   "cell_type": "code",
   "source": [
    "def encoder(input, filter, padding, strides, kernel, activation):\n",
    "  x = input\n",
    "  x = convolution(x, filter, padding, strides, kernel, activation, 'encoder')\n",
    "  downsample = layers.AveragePooling2D()(x)\n",
    "  return downsample, x"
   ],
   "metadata": {
    "id": "u6t7y6YxqAc6",
    "execution": {
     "iopub.status.busy": "2023-08-12T09:18:17.033748Z",
     "iopub.execute_input": "2023-08-12T09:18:17.034106Z",
     "iopub.status.idle": "2023-08-12T09:18:17.039759Z",
     "shell.execute_reply.started": "2023-08-12T09:18:17.034077Z",
     "shell.execute_reply": "2023-08-12T09:18:17.038663Z"
    },
    "trusted": true
   },
   "execution_count": null,
   "outputs": []
  },
  {
   "cell_type": "code",
   "source": [
    "def decoder(input, filter, skip, padding, strides, kernel, activation):\n",
    "  x = input\n",
    "  x = layers.Conv2DTranspose(filter, kernel_size = kernel, padding = padding,\n",
    "                             strides = 2, activation = activation)(x)\n",
    "  x = layers.average([x, skip])\n",
    "  x = convolution(x, filter, padding, strides, kernel, activation, 'decoder')\n",
    "  return x"
   ],
   "metadata": {
    "id": "v3l_YejcqDaj",
    "execution": {
     "iopub.status.busy": "2023-08-12T09:18:19.852440Z",
     "iopub.execute_input": "2023-08-12T09:18:19.852843Z",
     "iopub.status.idle": "2023-08-12T09:18:19.859017Z",
     "shell.execute_reply.started": "2023-08-12T09:18:19.852811Z",
     "shell.execute_reply": "2023-08-12T09:18:19.858103Z"
    },
    "trusted": true
   },
   "execution_count": null,
   "outputs": []
  },
  {
   "cell_type": "code",
   "source": [
    "def generator(input, filter, padding, strides, kernel, weights):\n",
    "  x = input\n",
    "  con1, skip1 = encoder(x, filter, padding = padding, strides = strides,\n",
    "                        kernel = kernel, activation = 'LeakyReLU')\n",
    "  con2, skip2 = encoder(con1, filter*2, padding = padding, strides = strides,\n",
    "                        kernel = kernel, activation = 'LeakyReLU')\n",
    "  con3, skip3 = encoder(con2, filter*4, padding = padding, strides = strides,\n",
    "                        kernel = kernel, activation = 'LeakyReLU')\n",
    "  con4, skip4 = encoder(con3, filter*8, padding = padding, strides = strides,\n",
    "                        kernel = kernel, activation = 'LeakyReLU')\n",
    "  con5, skip5 = encoder(con4, filter*16, padding = padding, strides = strides,\n",
    "                        kernel = kernel, activation = 'LeakyReLU')\n",
    "  deco = decoder(con5, filter*16, skip5, padding = padding, strides = strides,\n",
    "                  kernel = kernel, activation = 'relu')\n",
    "  deco1 = decoder(deco, filter*8, skip4, padding = padding, strides = strides,\n",
    "                  kernel = kernel, activation = 'relu')\n",
    "  deco2 = decoder(deco1, filter*4, skip3, padding = padding, strides = strides,\n",
    "                  kernel = kernel, activation = 'relu')\n",
    "  deco3 = decoder(deco2, filter*2, skip2, padding = padding, strides = strides,\n",
    "                  kernel = kernel, activation = 'relu')\n",
    "  deco4 = decoder(deco3, filter, skip1, padding = padding, strides = strides,\n",
    "                  kernel = kernel, activation = 'relu')\n",
    "  output = layers.Conv2DTranspose(1, kernel_size = kernel, strides = strides,\n",
    "                                  padding = padding, activation = 'sigmoid')(deco4)\n",
    "  generator = models.Model(inputs = input, outputs = output, name = 'generator')\n",
    "  if weights != None:\n",
    "    generator.load_weights('/kaggle/working/mask_generator.h5')\n",
    "  generator.summary()\n",
    "  return generator"
   ],
   "metadata": {
    "id": "X-01v1Ig_npR",
    "execution": {
     "iopub.status.busy": "2023-08-12T09:18:24.290554Z",
     "iopub.execute_input": "2023-08-12T09:18:24.290940Z",
     "iopub.status.idle": "2023-08-12T09:18:24.302856Z",
     "shell.execute_reply.started": "2023-08-12T09:18:24.290893Z",
     "shell.execute_reply": "2023-08-12T09:18:24.301625Z"
    },
    "trusted": true
   },
   "execution_count": null,
   "outputs": []
  },
  {
   "cell_type": "code",
   "source": [
    "G = generator(input = layers.Input(shape = (224, 224, 1)), filter = 32,\n",
    "              padding = 'same', kernel = 3, strides = 1, weights = None)"
   ],
   "metadata": {
    "colab": {
     "base_uri": "https://localhost:8080/"
    },
    "id": "CfaTJ8qcAthx",
    "outputId": "d337ac27-e22e-42fa-e2b0-508657f0f94c",
    "execution": {
     "iopub.status.busy": "2023-08-12T06:27:33.879517Z",
     "iopub.execute_input": "2023-08-12T06:27:33.879876Z",
     "iopub.status.idle": "2023-08-12T06:27:38.457519Z",
     "shell.execute_reply.started": "2023-08-12T06:27:33.879846Z",
     "shell.execute_reply": "2023-08-12T06:27:38.456653Z"
    },
    "trusted": true
   },
   "execution_count": null,
   "outputs": []
  },
  {
   "cell_type": "code",
   "source": [
    "tf.keras.utils.plot_model(G, show_shapes = True)"
   ],
   "metadata": {
    "execution": {
     "iopub.status.busy": "2023-08-12T10:02:34.257824Z",
     "iopub.execute_input": "2023-08-12T10:02:34.258201Z",
     "iopub.status.idle": "2023-08-12T10:02:35.886977Z",
     "shell.execute_reply.started": "2023-08-12T10:02:34.258169Z",
     "shell.execute_reply": "2023-08-12T10:02:35.886062Z"
    },
    "trusted": true
   },
   "execution_count": null,
   "outputs": []
  },
  {
   "cell_type": "code",
   "source": [
    "def discriminator(ImageInput, maskInput, filter, padding, strides, kernel, weights,\n",
    "                  lossFn, learning_rate, weight_decay):\n",
    "  x = layers.multiply([ImageInput, maskInput])\n",
    "  con1, skip1 = encoder(x, filter, padding = padding, strides = strides,\n",
    "                        kernel = kernel, activation = 'LeakyReLU')\n",
    "  con2, skip2 = encoder(con1, filter*2, padding = padding, strides = strides,\n",
    "                        kernel = kernel, activation = 'LeakyReLU')\n",
    "  con3, skip3 = encoder(con2, filter*4, padding = padding, strides = strides,\n",
    "                        kernel = kernel, activation = 'LeakyReLU')\n",
    "  con4, skip4 = encoder(con3, filter*8, padding = padding, strides = strides,\n",
    "                        kernel = kernel, activation = 'LeakyReLU')\n",
    "  con5, skip5 = encoder(con4, filter*16, padding = padding, strides = strides,\n",
    "                        kernel = kernel, activation = 'LeakyReLU')\n",
    "  x = layers.GlobalAveragePooling2D()(con5)\n",
    "  x = layers.Dropout(0.1)(x)\n",
    "  x = layers.Dense(1)(x)\n",
    "  discriminator = models.Model(inputs = [maskInput, ImageInput], outputs = x,\n",
    "                              name = 'discriminator')\n",
    "  if weights != None:\n",
    "    discriminator.load_weights('/kaggle/working/discriminator.h5')\n",
    "  discriminator.compile(loss = lossFn, optimizer = tf.keras.optimizers.RMSprop(learning_rate = learning_rate,\n",
    "                                                                              weight_decay = weight_decay))\n",
    "  discriminator.summary()\n",
    "  return discriminator"
   ],
   "metadata": {
    "id": "VqVGN_BRBEF5",
    "execution": {
     "iopub.status.busy": "2023-08-12T09:18:54.554602Z",
     "iopub.execute_input": "2023-08-12T09:18:54.554957Z",
     "iopub.status.idle": "2023-08-12T09:18:54.564995Z",
     "shell.execute_reply.started": "2023-08-12T09:18:54.554929Z",
     "shell.execute_reply": "2023-08-12T09:18:54.563805Z"
    },
    "trusted": true
   },
   "execution_count": null,
   "outputs": []
  },
  {
   "cell_type": "code",
   "source": [
    "D = discriminator(ImageInput = layers.Input(shape = imageShape), maskInput = layers.Input(shape = maskShape),\n",
    "                  filter = 32, padding = 'same', strides = 1, kernel = 3, weights = None,\n",
    "                  lossFn = 'mse', learning_rate = eta, weight_decay = weight_decay)"
   ],
   "metadata": {
    "colab": {
     "base_uri": "https://localhost:8080/"
    },
    "id": "an1Idi66CkV4",
    "outputId": "7e5cdd46-6978-4956-c108-7c2236d0d122",
    "execution": {
     "iopub.status.busy": "2023-08-12T10:01:54.288579Z",
     "iopub.execute_input": "2023-08-12T10:01:54.288949Z",
     "iopub.status.idle": "2023-08-12T10:01:54.723472Z",
     "shell.execute_reply.started": "2023-08-12T10:01:54.288920Z",
     "shell.execute_reply": "2023-08-12T10:01:54.722659Z"
    },
    "trusted": true
   },
   "execution_count": null,
   "outputs": []
  },
  {
   "cell_type": "code",
   "source": [
    "tf.keras.utils.plot_model(D, show_shapes = True)"
   ],
   "metadata": {
    "id": "aFb-6rXOGWOQ",
    "execution": {
     "iopub.status.busy": "2023-08-12T10:02:03.594702Z",
     "iopub.execute_input": "2023-08-12T10:02:03.595071Z",
     "iopub.status.idle": "2023-08-12T10:02:03.968082Z",
     "shell.execute_reply.started": "2023-08-12T10:02:03.595039Z",
     "shell.execute_reply": "2023-08-12T10:02:03.967132Z"
    },
    "trusted": true
   },
   "execution_count": null,
   "outputs": []
  },
  {
   "cell_type": "code",
   "source": [
    "def GAN(discriminator, generator, imageInput, maskInput, learning_rate, weight_decay,\n",
    "                   lossFn):\n",
    "  discriminator.trainable = False\n",
    "  gan = models.Model(\n",
    "      inputs = [imageInput],\n",
    "      outputs = discriminator([generator(imageInput), imageInput],),\n",
    "      name = 'gan'\n",
    "  )\n",
    "  gan.compile(loss = lossFn, optimizer = tf.keras.optimizers.RMSprop(learning_rate = learning_rate*0.5,\n",
    "                                                                              weight_decay = weight_decay*0.5))\n",
    "  gan.summary()\n",
    "  return gan"
   ],
   "metadata": {
    "id": "qSLaj3Ovqb9C",
    "execution": {
     "iopub.status.busy": "2023-08-12T09:22:08.372076Z",
     "iopub.execute_input": "2023-08-12T09:22:08.372522Z",
     "iopub.status.idle": "2023-08-12T09:22:08.379925Z",
     "shell.execute_reply.started": "2023-08-12T09:22:08.372488Z",
     "shell.execute_reply": "2023-08-12T09:22:08.378775Z"
    },
    "trusted": true
   },
   "execution_count": null,
   "outputs": []
  },
  {
   "cell_type": "code",
   "source": [
    "gan = GAN(discriminator = D, generator = G, imageInput = layers.Input(shape = imageShape),\n",
    "          maskInput = layers.Input(shape = maskShape), learning_rate = eta, weight_decay = weight_decay,\n",
    "                   lossFn = 'mse')"
   ],
   "metadata": {
    "colab": {
     "base_uri": "https://localhost:8080/"
    },
    "id": "AmAnNhVOEPGw",
    "outputId": "32d9d028-5a4f-476a-ed7f-1c168ea2d264",
    "execution": {
     "iopub.status.busy": "2023-08-12T06:27:54.323683Z",
     "iopub.execute_input": "2023-08-12T06:27:54.324041Z",
     "iopub.status.idle": "2023-08-12T06:27:55.670093Z",
     "shell.execute_reply.started": "2023-08-12T06:27:54.324011Z",
     "shell.execute_reply": "2023-08-12T06:27:55.669142Z"
    },
    "trusted": true
   },
   "execution_count": null,
   "outputs": []
  },
  {
   "cell_type": "code",
   "source": [
    "tf.keras.utils.plot_model(gan, show_shapes = True)"
   ],
   "metadata": {
    "colab": {
     "base_uri": "https://localhost:8080/",
     "height": 312
    },
    "id": "MxIt_xn0FcX3",
    "outputId": "d8c82dc6-695f-4bc5-ffee-3d7ca329334b",
    "trusted": true
   },
   "execution_count": null,
   "outputs": []
  },
  {
   "cell_type": "code",
   "source": [
    "def samples(generator, images, realMasks):\n",
    "  masks = tf.squeeze(generator.predict(images))\n",
    "  all = np.vstack([realMasks, masks])\n",
    "  plt.figure(figsize = (12, 4))\n",
    "  for i in range(16):\n",
    "    plt.subplot(2, 8, (i + 1))\n",
    "    plt.imshow(all[i], cmap = 'gray')\n",
    "  plt.show()"
   ],
   "metadata": {
    "id": "dBRZ5bekqhNi",
    "execution": {
     "iopub.status.busy": "2023-08-12T09:21:12.133501Z",
     "iopub.execute_input": "2023-08-12T09:21:12.133940Z",
     "iopub.status.idle": "2023-08-12T09:21:12.141674Z",
     "shell.execute_reply.started": "2023-08-12T09:21:12.133903Z",
     "shell.execute_reply": "2023-08-12T09:21:12.140705Z"
    },
    "trusted": true
   },
   "execution_count": null,
   "outputs": []
  },
  {
   "cell_type": "markdown",
   "source": [
    "- In the beginning, the generative neural network will find it difficult to understand exactly what is required of it, but with time, the generative network will realize that it has to generate a mask so that if it is applied to the panoramic image, we will extract areas of the teeth with the same characteristics and specifications that the distinguished one studied.\n",
    "- The main idea is to make the hashing task not easy and requires awareness on the part of the generator of what it should generate, since I did not tell it exactly what it should generate, but rather I left it to him to realize what he should generate.\n",
    "- As I mentioned, with time the generator will understand the idea and therefore will work on generating the mask without being asked to do so openly."
   ],
   "metadata": {}
  },
  {
   "cell_type": "code",
   "source": [
    "for epoch in range(epochs):\n",
    "    indexs = np.random.randint(0, len(trainImages), size = (batch, ))\n",
    "    realImages = trainImages[indexs]\n",
    "    realMasks = trainMasks[indexs]\n",
    "    realTag = tf.ones(shape = (batch, ))\n",
    "    fakeMasks = tf.squeeze(G.predict([realImages], verbose = 0))\n",
    "    fakeTag = tf.zeros(shape = (batch, ))\n",
    "    allMasks = np.vstack([realMasks, fakeMasks])\n",
    "    allTags = np.hstack([realTag, fakeTag])\n",
    "    allImages = np.vstack([realImages, realImages])\n",
    "    dlossTag = D.train_on_batch([allMasks, allImages], [allTags])\n",
    "    glossTag = gan.train_on_batch([realImages], [realTag,])\n",
    "    if epoch % 500 == 0:\n",
    "        print('Epoch/Epochs: {}/{}'.format(epoch, epochs))\n",
    "        print('discriminator loss: [tag: {},], generator loss: [tag: {},]'.format(dlossTag, glossTag))\n",
    "        validIndexs = np.random.randint(0, len(validImages), size = (8, ))\n",
    "        samples(G, validImages[validIndexs], validMasks[validIndexs])"
   ],
   "metadata": {
    "id": "QhXyfVgZqlS5",
    "colab": {
     "base_uri": "https://localhost:8080/",
     "height": 1000
    },
    "outputId": "a827b1ef-2e76-4936-f6fc-47033d789d0b",
    "execution": {
     "iopub.status.busy": "2023-08-12T06:28:06.246876Z",
     "iopub.execute_input": "2023-08-12T06:28:06.247336Z",
     "iopub.status.idle": "2023-08-12T08:20:51.630916Z",
     "shell.execute_reply.started": "2023-08-12T06:28:06.247295Z",
     "shell.execute_reply": "2023-08-12T08:20:51.629796Z"
    },
    "trusted": true
   },
   "execution_count": null,
   "outputs": []
  },
  {
   "cell_type": "code",
   "source": [
    "G.save_weights('/kaggle/working/mask_generator.h5')\n",
    "D.save_weights('/kaggle/working/mask_discriminator.h5')"
   ],
   "metadata": {
    "id": "IMMfbd5pDqpx",
    "execution": {
     "iopub.status.busy": "2023-08-12T08:21:25.539318Z",
     "iopub.execute_input": "2023-08-12T08:21:25.539734Z",
     "iopub.status.idle": "2023-08-12T08:21:25.857452Z",
     "shell.execute_reply.started": "2023-08-12T08:21:25.539702Z",
     "shell.execute_reply": "2023-08-12T08:21:25.856353Z"
    },
    "trusted": true
   },
   "execution_count": null,
   "outputs": []
  },
  {
   "cell_type": "markdown",
   "source": [
    "- Now we will train the generator again with a number of layers frozen in order to maintain the capacity that the generator has gained."
   ],
   "metadata": {}
  },
  {
   "cell_type": "code",
   "source": [
    "G = generator(input = layers.Input(shape = (224, 224, 1)), filter = 32,\n",
    "              padding = 'same', kernel = 3, strides = 1, weights = True)\n",
    "for layer in G.layers[:20]:\n",
    "  layer.trainable = False\n",
    "G.compile(loss = tf.keras.losses.BinaryFocalCrossentropy(),\n",
    "                  optimizer = tf.keras.optimizers.Adam(learning_rate = 0.00001),\n",
    "                  metrics = ['accuracy', tf.keras.metrics.Precision(name = 'precision'),\n",
    "                             tf.keras.metrics.Recall(name = 'recall')])\n",
    "G.summary()"
   ],
   "metadata": {
    "colab": {
     "base_uri": "https://localhost:8080/"
    },
    "id": "xV-CfhtkiSXy",
    "outputId": "09ccc349-fa33-47a1-8b3c-e727691a9169",
    "execution": {
     "iopub.status.busy": "2023-08-12T08:25:20.496873Z",
     "iopub.execute_input": "2023-08-12T08:25:20.497309Z",
     "iopub.status.idle": "2023-08-12T08:25:22.494058Z",
     "shell.execute_reply.started": "2023-08-12T08:25:20.497275Z",
     "shell.execute_reply": "2023-08-12T08:25:22.493262Z"
    },
    "trusted": true
   },
   "execution_count": null,
   "outputs": []
  },
  {
   "cell_type": "markdown",
   "source": [
    "# Evaluation of training performance using generative neural networks on both training and test data"
   ],
   "metadata": {}
  },
  {
   "cell_type": "code",
   "source": [
    "G.evaluate(validImages, validMasks)"
   ],
   "metadata": {
    "execution": {
     "iopub.status.busy": "2023-08-12T08:22:55.098877Z",
     "iopub.execute_input": "2023-08-12T08:22:55.099253Z",
     "iopub.status.idle": "2023-08-12T08:23:03.280263Z",
     "shell.execute_reply.started": "2023-08-12T08:22:55.099221Z",
     "shell.execute_reply": "2023-08-12T08:23:03.279205Z"
    },
    "trusted": true
   },
   "execution_count": null,
   "outputs": []
  },
  {
   "cell_type": "code",
   "source": [
    "G.evaluate(trainImages, trainMasks)"
   ],
   "metadata": {
    "execution": {
     "iopub.status.busy": "2023-08-12T08:23:30.733703Z",
     "iopub.execute_input": "2023-08-12T08:23:30.734112Z",
     "iopub.status.idle": "2023-08-12T08:23:36.697544Z",
     "shell.execute_reply.started": "2023-08-12T08:23:30.734055Z",
     "shell.execute_reply": "2023-08-12T08:23:36.696582Z"
    },
    "trusted": true
   },
   "execution_count": null,
   "outputs": []
  },
  {
   "cell_type": "markdown",
   "source": [
    "# Re-training of the generator according to the pixel2pixel methodology"
   ],
   "metadata": {}
  },
  {
   "cell_type": "code",
   "source": [
    "history = G.fit(trainImages, trainMasks, epochs = 160, batch_size = 8,\n",
    "                        validation_data = (validImages, validMasks), callbacks = [\n",
    "                            tf.keras.callbacks.EarlyStopping(patience = 5, monitor = 'val_loss',\n",
    "                                                             mode = 'min',\n",
    "                                                             restore_best_weights = True)\n",
    "                        ])"
   ],
   "metadata": {
    "colab": {
     "base_uri": "https://localhost:8080/"
    },
    "id": "GXU2wFydjICg",
    "outputId": "a13848d3-528c-4d16-c986-ec32e864cbe3",
    "execution": {
     "iopub.status.busy": "2023-08-12T08:25:38.529055Z",
     "iopub.execute_input": "2023-08-12T08:25:38.529924Z",
     "iopub.status.idle": "2023-08-12T08:51:46.456127Z",
     "shell.execute_reply.started": "2023-08-12T08:25:38.529890Z",
     "shell.execute_reply": "2023-08-12T08:51:46.455042Z"
    },
    "trusted": true
   },
   "execution_count": null,
   "outputs": []
  },
  {
   "cell_type": "markdown",
   "source": [
    "# The results obtained"
   ],
   "metadata": {}
  },
  {
   "cell_type": "code",
   "source": [
    "metrics = ['loss','accuracy', 'precision']\n",
    "plt.figure(figsize = (12, 6))\n",
    "for i in range(3):\n",
    "    plt.subplot(2, 2, (i + 1))\n",
    "    plt.plot(history.history['{}'.format(metrics[i])], label = '{}'.format(metrics[i]))\n",
    "    plt.plot(history.history['val_{}'.format(metrics[i])], label = 'val_{}'.format(metrics[i]))\n",
    "    plt.title('{}'.format(metrics[i]))\n",
    "plt.legend()"
   ],
   "metadata": {
    "id": "7dYpz7WRZtkE",
    "execution": {
     "iopub.status.busy": "2023-08-12T09:00:09.126282Z",
     "iopub.execute_input": "2023-08-12T09:00:09.126653Z",
     "iopub.status.idle": "2023-08-12T09:00:09.839065Z",
     "shell.execute_reply.started": "2023-08-12T09:00:09.126621Z",
     "shell.execute_reply": "2023-08-12T09:00:09.837965Z"
    },
    "trusted": true
   },
   "execution_count": null,
   "outputs": []
  },
  {
   "cell_type": "code",
   "source": [
    "G.evaluate(validImages, validMasks)"
   ],
   "metadata": {
    "execution": {
     "iopub.status.busy": "2023-08-12T08:52:41.936739Z",
     "iopub.execute_input": "2023-08-12T08:52:41.937131Z",
     "iopub.status.idle": "2023-08-12T08:52:44.355260Z",
     "shell.execute_reply.started": "2023-08-12T08:52:41.937090Z",
     "shell.execute_reply": "2023-08-12T08:52:44.354141Z"
    },
    "trusted": true
   },
   "execution_count": null,
   "outputs": []
  },
  {
   "cell_type": "code",
   "source": [
    "G.evaluate(trainImages, trainMasks)"
   ],
   "metadata": {
    "colab": {
     "base_uri": "https://localhost:8080/"
    },
    "id": "hy9TCXbbitYb",
    "outputId": "bcab67f5-f9a0-47b3-f706-89421c6bfba5",
    "execution": {
     "iopub.status.busy": "2023-08-12T08:52:52.883795Z",
     "iopub.execute_input": "2023-08-12T08:52:52.884189Z",
     "iopub.status.idle": "2023-08-12T08:52:56.980118Z",
     "shell.execute_reply.started": "2023-08-12T08:52:52.884156Z",
     "shell.execute_reply": "2023-08-12T08:52:56.979128Z"
    },
    "trusted": true
   },
   "execution_count": null,
   "outputs": []
  },
  {
   "cell_type": "code",
   "source": [
    "G.save('/kaggle/working/final_tooth_mask_generation.h5')"
   ],
   "metadata": {
    "execution": {
     "iopub.status.busy": "2023-08-12T09:01:14.712617Z",
     "iopub.execute_input": "2023-08-12T09:01:14.713024Z",
     "iopub.status.idle": "2023-08-12T09:01:15.346369Z",
     "shell.execute_reply.started": "2023-08-12T09:01:14.712991Z",
     "shell.execute_reply": "2023-08-12T09:01:15.345340Z"
    },
    "trusted": true
   },
   "execution_count": null,
   "outputs": []
  },
  {
   "cell_type": "code",
   "source": [
    "G = tf.keras.models.load_model('/kaggle/working/final_tooth_mask_generation.h5')"
   ],
   "metadata": {
    "execution": {
     "iopub.status.busy": "2023-08-12T09:58:10.808633Z",
     "iopub.execute_input": "2023-08-12T09:58:10.809032Z",
     "iopub.status.idle": "2023-08-12T09:58:12.811992Z",
     "shell.execute_reply.started": "2023-08-12T09:58:10.809002Z",
     "shell.execute_reply": "2023-08-12T09:58:12.810959Z"
    },
    "trusted": true
   },
   "execution_count": null,
   "outputs": []
  },
  {
   "cell_type": "code",
   "source": [
    "masks_pred = G.predict(validImages)\n",
    "masks_pred = (masks_pred >= 0.5).astype('int')"
   ],
   "metadata": {
    "colab": {
     "base_uri": "https://localhost:8080/"
    },
    "id": "-cvl9117EZI4",
    "outputId": "938772f2-2d17-43e8-a818-538d6c56c059",
    "execution": {
     "iopub.status.busy": "2023-08-12T08:53:20.803323Z",
     "iopub.execute_input": "2023-08-12T08:53:20.803724Z",
     "iopub.status.idle": "2023-08-12T08:53:22.758421Z",
     "shell.execute_reply.started": "2023-08-12T08:53:20.803692Z",
     "shell.execute_reply": "2023-08-12T08:53:22.757295Z"
    },
    "trusted": true
   },
   "execution_count": null,
   "outputs": []
  },
  {
   "cell_type": "code",
   "source": [
    "masks_pred.shape"
   ],
   "metadata": {
    "id": "P1JxosF-EkN5",
    "colab": {
     "base_uri": "https://localhost:8080/"
    },
    "outputId": "3c996f82-8cb4-4e87-cdc2-8217bdb9e9f2",
    "execution": {
     "iopub.status.busy": "2023-08-12T08:53:24.594790Z",
     "iopub.execute_input": "2023-08-12T08:53:24.595171Z",
     "iopub.status.idle": "2023-08-12T08:53:24.601629Z",
     "shell.execute_reply.started": "2023-08-12T08:53:24.595140Z",
     "shell.execute_reply": "2023-08-12T08:53:24.600649Z"
    },
    "trusted": true
   },
   "execution_count": null,
   "outputs": []
  },
  {
   "cell_type": "code",
   "source": [
    "def draw(images, masks, y_pred):\n",
    "  plt.figure(figsize = (12, 50))\n",
    "  index = -1\n",
    "  n = np.random.randint(y_pred.shape[0])\n",
    "  for i in range(120):\n",
    "    plt.subplot(20, 6, (i + 1))\n",
    "    if index == -1:\n",
    "      plt.imshow(images[n], cmap = 'gray')\n",
    "      plt.title('Image')\n",
    "      index = 0\n",
    "    elif index == 0:\n",
    "      plt.imshow(images[n], cmap = 'gray')\n",
    "      plt.imshow(masks[n], alpha = 0.6, cmap = 'gray')\n",
    "      plt.title('Original Mask')\n",
    "      index = 1\n",
    "    elif index == 1:\n",
    "      plt.imshow(images[n], cmap = 'gray')\n",
    "      plt.imshow(np.reshape(y_pred[n], (224, 224)), alpha = 0.6, cmap = 'gray')\n",
    "      plt.title('Predict Mask')\n",
    "      index = -1\n",
    "      n = np.random.randint(y_pred.shape[0])\n",
    "  plt.legend()"
   ],
   "metadata": {
    "id": "bXRZnNbgErgi",
    "execution": {
     "iopub.status.busy": "2023-08-12T09:59:22.941491Z",
     "iopub.execute_input": "2023-08-12T09:59:22.941861Z",
     "iopub.status.idle": "2023-08-12T09:59:22.951410Z",
     "shell.execute_reply.started": "2023-08-12T09:59:22.941833Z",
     "shell.execute_reply": "2023-08-12T09:59:22.950457Z"
    },
    "trusted": true
   },
   "execution_count": null,
   "outputs": []
  },
  {
   "cell_type": "code",
   "source": [
    "draw(validImages, validMasks, masks_pred)"
   ],
   "metadata": {
    "id": "2kdDVzKfFGhJ",
    "execution": {
     "iopub.status.busy": "2023-08-12T08:53:57.936861Z",
     "iopub.execute_input": "2023-08-12T08:53:57.937232Z",
     "iopub.status.idle": "2023-08-12T08:54:19.115614Z",
     "shell.execute_reply.started": "2023-08-12T08:53:57.937201Z",
     "shell.execute_reply": "2023-08-12T08:54:19.114190Z"
    },
    "trusted": true
   },
   "execution_count": null,
   "outputs": []
  },
  {
   "cell_type": "code",
   "source": [
    "masks_pred = G.predict(trainImages)\n",
    "masks_pred = (masks_pred >= 0.5).astype('int')"
   ],
   "metadata": {
    "execution": {
     "iopub.status.busy": "2023-08-12T09:58:35.902875Z",
     "iopub.execute_input": "2023-08-12T09:58:35.903254Z",
     "iopub.status.idle": "2023-08-12T09:58:46.004688Z",
     "shell.execute_reply.started": "2023-08-12T09:58:35.903221Z",
     "shell.execute_reply": "2023-08-12T09:58:46.003637Z"
    },
    "trusted": true
   },
   "execution_count": null,
   "outputs": []
  },
  {
   "cell_type": "code",
   "source": [
    "masks_pred.shape"
   ],
   "metadata": {
    "execution": {
     "iopub.status.busy": "2023-08-12T09:59:05.933091Z",
     "iopub.execute_input": "2023-08-12T09:59:05.933477Z",
     "iopub.status.idle": "2023-08-12T09:59:05.940734Z",
     "shell.execute_reply.started": "2023-08-12T09:59:05.933443Z",
     "shell.execute_reply": "2023-08-12T09:59:05.939636Z"
    },
    "trusted": true
   },
   "execution_count": null,
   "outputs": []
  },
  {
   "cell_type": "code",
   "source": [
    "draw(trainImages, trainMasks, masks_pred)"
   ],
   "metadata": {
    "execution": {
     "iopub.status.busy": "2023-08-12T09:59:28.698871Z",
     "iopub.execute_input": "2023-08-12T09:59:28.699216Z",
     "iopub.status.idle": "2023-08-12T09:59:51.654395Z",
     "shell.execute_reply.started": "2023-08-12T09:59:28.699186Z",
     "shell.execute_reply": "2023-08-12T09:59:51.653468Z"
    },
    "trusted": true
   },
   "execution_count": null,
   "outputs": []
  },
  {
   "cell_type": "code",
   "source": [
    "draw(trainImages, trainMasks, masks_pred)"
   ],
   "metadata": {
    "execution": {
     "iopub.status.busy": "2023-08-12T10:00:22.572454Z",
     "iopub.execute_input": "2023-08-12T10:00:22.572841Z",
     "iopub.status.idle": "2023-08-12T10:00:45.207226Z",
     "shell.execute_reply.started": "2023-08-12T10:00:22.572809Z",
     "shell.execute_reply": "2023-08-12T10:00:45.204896Z"
    },
    "trusted": true
   },
   "execution_count": null,
   "outputs": []
  }
 ]
}
